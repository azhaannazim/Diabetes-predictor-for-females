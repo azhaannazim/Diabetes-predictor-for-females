{
  "nbformat": 4,
  "nbformat_minor": 0,
  "metadata": {
    "colab": {
      "provenance": [],
      "toc_visible": true
    },
    "kernelspec": {
      "name": "python3",
      "display_name": "Python 3"
    },
    "language_info": {
      "name": "python"
    }
  },
  "cells": [
    {
      "cell_type": "code",
      "execution_count": 10,
      "metadata": {
        "id": "Hi-9MxR76VQn"
      },
      "outputs": [],
      "source": [
        "from pydantic import BaseModel, Field, field_validator\n",
        "from typing import Optional\n",
        "\n"
      ]
    },
    {
      "cell_type": "code",
      "source": [
        "class DiabetesInput(BaseModel):\n",
        "    # Mandatory fields\n",
        "    Pregnancies: int = Field(..., ge=0, description=\"Number of times pregnant\")\n",
        "    Weight: float = Field(..., gt=0, description=\"Weight in kilograms\")\n",
        "    Height: float = Field(..., gt=0, description=\"Height in meters\")\n",
        "    Age: int = Field(..., ge=1, description=\"Age in years\")\n",
        "\n",
        "    # Optional fields\n",
        "    Glucose: Optional[float] = Field(None, ge=0, description=\"Plasma glucose concentration\")\n",
        "    BloodPressure: Optional[float] = Field(None, ge=0, description=\"Diastolic blood pressure (mm Hg)\")\n",
        "    SkinThickness: Optional[float] = Field(None, ge=0, description=\"Triceps skinfold thickness (mm)\")\n",
        "    Insulin: Optional[float] = Field(None, ge=0, description=\"2-Hour serum insulin (mu U/ml)\")\n",
        "    DiabetesPedigreeFunction: Optional[float] = Field(None, ge=0, description=\"Diabetes pedigree function score\")"
      ],
      "metadata": {
        "id": "q5F3cWJ062pK"
      },
      "execution_count": 11,
      "outputs": []
    },
    {
      "cell_type": "code",
      "source": [
        " @field_validator(\"Height\", \"Weight\")\n",
        " def check_positive(cls, v):\n",
        "        if v <= 0:\n",
        "            raise ValueError(\"Height and Weight must be positive numbers\")\n",
        "        return v\n",
        "\n",
        " def compute_bmi(self) -> float:\n",
        "        \"\"\"Compute BMI from weight and height.\"\"\"\n",
        "        return round(self.Weight / (self.Height ** 2), 2)\n",
        "\n",
        " def to_model_input(self):\n",
        "        \"\"\"Return features in correct order for ML model.\"\"\"\n",
        "        return [\n",
        "            self.Pregnancies,\n",
        "            self.Glucose if self.Glucose is not None else 0,\n",
        "            self.BloodPressure if self.BloodPressure is not None else 0,\n",
        "            self.SkinThickness if self.SkinThickness is not None else 0,\n",
        "            self.Insulin if self.Insulin is not None else 0,\n",
        "            self.compute_bmi(),\n",
        "            self.DiabetesPedigreeFunction if self.DiabetesPedigreeFunction is not None else 0,\n",
        "            self.Age,\n",
        "        ]"
      ],
      "metadata": {
        "id": "tXq8HaAc7Tgq"
      },
      "execution_count": 12,
      "outputs": []
    }
  ]
}