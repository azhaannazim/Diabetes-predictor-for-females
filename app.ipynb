{
  "nbformat": 4,
  "nbformat_minor": 0,
  "metadata": {
    "colab": {
      "provenance": []
    },
    "kernelspec": {
      "name": "python3",
      "display_name": "Python 3"
    },
    "language_info": {
      "name": "python"
    }
  },
  "cells": [
    {
      "cell_type": "code",
      "execution_count": 5,
      "metadata": {
        "id": "4-5CTlYQ-oie"
      },
      "outputs": [],
      "source": [
        "import pickle\n",
        "import pandas as pd\n",
        "from schemas import DiabetesInput"
      ]
    },
    {
      "cell_type": "code",
      "source": [
        "with open('/content/voting_classififer.pkl','rb') as f:\n",
        "  model=pickle.load(f)"
      ],
      "metadata": {
        "id": "ycMdMgK4C8oE"
      },
      "execution_count": 6,
      "outputs": []
    },
    {
      "cell_type": "code",
      "source": [
        "with open('/content/scaler.pkl','rb') as f:\n",
        "  scaler=pickle.load(f)"
      ],
      "metadata": {
        "id": "efqf49y2FcnL"
      },
      "execution_count": 7,
      "outputs": []
    },
    {
      "cell_type": "code",
      "source": [
        "with open('/content/feature_columns.pkl','rb') as f:\n",
        "  feature_columns=pickle.load(f)"
      ],
      "metadata": {
        "id": "lqLqa1dxFf-q"
      },
      "execution_count": 8,
      "outputs": []
    },
    {
      "cell_type": "code",
      "source": [
        "with open(\"imputer.pkl\", \"rb\") as f:\n",
        "    imputer = pickle.load(f)"
      ],
      "metadata": {
        "id": "XWueGE9kRnVk"
      },
      "execution_count": 9,
      "outputs": []
    },
    {
      "cell_type": "code",
      "source": [
        "from fastapi import FastAPI\n",
        "app=FastAPI(\n",
        "    title=\"Diabetes Prediction API\",\n",
        "    description=\"API for predicting diabetes using an ensemble model\",\n",
        "    version=\"1.0.0\",\n",
        ")"
      ],
      "metadata": {
        "id": "AUQvQqLuFy0-"
      },
      "execution_count": 10,
      "outputs": []
    },
    {
      "cell_type": "code",
      "source": [
        "@app.get(\"/\")\n",
        "def home():\n",
        "  return {\"message\":\"Diabetes Prediction API is running\"}"
      ],
      "metadata": {
        "id": "ACJYpyVCHdIQ"
      },
      "execution_count": 11,
      "outputs": []
    },
    {
      "cell_type": "code",
      "source": [
        "@app.post(\"/predict\")\n",
        "def predict_diabetes(user_input: DiabetesInput):\n",
        "  input_list=user_input.to_model_input()\n",
        "  input_df=pd.DataFrame([input_list],columns=feature_columns)\n",
        "  input_imputed=imputer.transform(input_df)\n",
        "  input_scaled=scaler.transform(input_imputed)\n",
        "\n",
        "  prediction=model.predict(input_scaled)[0]\n",
        "  probability=model.predict_proba(input_scaled)[0][1]\n",
        "\n",
        "  if prediction==1:\n",
        "    message=\"High risk of diabetes\"\n",
        "  else:\n",
        "    message=\"Low risk of diabetes\"\n",
        "\n",
        "  return{\n",
        "      \"prediction\":int(prediction),\n",
        "      \"probability\":round(probability,2),\n",
        "      \"message\":message\n",
        "  }\n",
        "\n"
      ],
      "metadata": {
        "id": "yuwmxIvSHqGe"
      },
      "execution_count": 12,
      "outputs": []
    },
    {
      "cell_type": "code",
      "source": [
        "\n"
      ],
      "metadata": {
        "id": "W5pup-T2VuE1"
      },
      "execution_count": null,
      "outputs": []
    }
  ]
}